{
 "cells": [
  {
   "cell_type": "markdown",
   "id": "7ccfb729-3ca4-42c4-abc4-01f9ef3c1e51",
   "metadata": {},
   "source": [
    "## Load data"
   ]
  },
  {
   "cell_type": "code",
   "execution_count": 1,
   "id": "073b2d51-2ceb-4814-ba15-f05d71532963",
   "metadata": {
    "scrolled": true
   },
   "outputs": [
    {
     "data": {
      "text/html": [
       "<div>\n",
       "<style scoped>\n",
       "    .dataframe tbody tr th:only-of-type {\n",
       "        vertical-align: middle;\n",
       "    }\n",
       "\n",
       "    .dataframe tbody tr th {\n",
       "        vertical-align: top;\n",
       "    }\n",
       "\n",
       "    .dataframe thead th {\n",
       "        text-align: right;\n",
       "    }\n",
       "</style>\n",
       "<table border=\"1\" class=\"dataframe\">\n",
       "  <thead>\n",
       "    <tr style=\"text-align: right;\">\n",
       "      <th></th>\n",
       "      <th>mobile</th>\n",
       "      <th>web</th>\n",
       "      <th>test_id</th>\n",
       "      <th>task-1-answer</th>\n",
       "      <th>task-1-time</th>\n",
       "      <th>task-1-q1</th>\n",
       "      <th>task-1-q2</th>\n",
       "      <th>task-1-q3</th>\n",
       "      <th>task-2-answer</th>\n",
       "      <th>task-2-time</th>\n",
       "      <th>...</th>\n",
       "      <th>task-7-time</th>\n",
       "      <th>task-7-answer</th>\n",
       "      <th>task-7-q1</th>\n",
       "      <th>task-7-q2</th>\n",
       "      <th>task-8-time</th>\n",
       "      <th>task-8-answer</th>\n",
       "      <th>task-8-q1</th>\n",
       "      <th>task-8-q2</th>\n",
       "      <th>task-8-q3</th>\n",
       "      <th>task-8-q4</th>\n",
       "    </tr>\n",
       "  </thead>\n",
       "  <tbody>\n",
       "    <tr>\n",
       "      <th>0</th>\n",
       "      <td>No</td>\n",
       "      <td>Yes</td>\n",
       "      <td>1</td>\n",
       "      <td>Completed</td>\n",
       "      <td>20</td>\n",
       "      <td>Yes</td>\n",
       "      <td>No</td>\n",
       "      <td>Yes</td>\n",
       "      <td>Completed</td>\n",
       "      <td>18</td>\n",
       "      <td>...</td>\n",
       "      <td>6</td>\n",
       "      <td>Completed</td>\n",
       "      <td>Yes</td>\n",
       "      <td>Yes, unclear that flags represent previous races</td>\n",
       "      <td>29</td>\n",
       "      <td>Completed</td>\n",
       "      <td>Yes</td>\n",
       "      <td>Matched one of the three racers on the podium</td>\n",
       "      <td>Yes</td>\n",
       "      <td>Yes, the flags on the league screen need label...</td>\n",
       "    </tr>\n",
       "    <tr>\n",
       "      <th>1</th>\n",
       "      <td>No</td>\n",
       "      <td>Yes</td>\n",
       "      <td>2</td>\n",
       "      <td>Completed</td>\n",
       "      <td>18</td>\n",
       "      <td>Yes</td>\n",
       "      <td>No</td>\n",
       "      <td>Yes</td>\n",
       "      <td>Completed</td>\n",
       "      <td>17</td>\n",
       "      <td>...</td>\n",
       "      <td>10</td>\n",
       "      <td>CompletedYes</td>\n",
       "      <td>Yes</td>\n",
       "      <td>No</td>\n",
       "      <td>27</td>\n",
       "      <td>Completed</td>\n",
       "      <td>Yes</td>\n",
       "      <td>Matched one of the three racers on the podium</td>\n",
       "      <td>Yes</td>\n",
       "      <td>No</td>\n",
       "    </tr>\n",
       "    <tr>\n",
       "      <th>2</th>\n",
       "      <td>No</td>\n",
       "      <td>Yes</td>\n",
       "      <td>3</td>\n",
       "      <td>Completed</td>\n",
       "      <td>16</td>\n",
       "      <td>Yes</td>\n",
       "      <td>No</td>\n",
       "      <td>Yes</td>\n",
       "      <td>Completed</td>\n",
       "      <td>16</td>\n",
       "      <td>...</td>\n",
       "      <td>11</td>\n",
       "      <td>Completed</td>\n",
       "      <td>Yes</td>\n",
       "      <td>No</td>\n",
       "      <td>30</td>\n",
       "      <td>Completed</td>\n",
       "      <td>Yes</td>\n",
       "      <td>Matched one of the three racers on the podium</td>\n",
       "      <td>Yes</td>\n",
       "      <td>No</td>\n",
       "    </tr>\n",
       "    <tr>\n",
       "      <th>3</th>\n",
       "      <td>No</td>\n",
       "      <td>Yes</td>\n",
       "      <td>4</td>\n",
       "      <td>Completed</td>\n",
       "      <td>21</td>\n",
       "      <td>Yes</td>\n",
       "      <td>No</td>\n",
       "      <td>Yes</td>\n",
       "      <td>Completed</td>\n",
       "      <td>19</td>\n",
       "      <td>...</td>\n",
       "      <td>9</td>\n",
       "      <td>Completed</td>\n",
       "      <td>Yes</td>\n",
       "      <td>No</td>\n",
       "      <td>27</td>\n",
       "      <td>Completed</td>\n",
       "      <td>Yes</td>\n",
       "      <td>Matched one of the three racers on the podium</td>\n",
       "      <td>Yes</td>\n",
       "      <td>No</td>\n",
       "    </tr>\n",
       "    <tr>\n",
       "      <th>4</th>\n",
       "      <td>No</td>\n",
       "      <td>Yes</td>\n",
       "      <td>5</td>\n",
       "      <td>Completed</td>\n",
       "      <td>20</td>\n",
       "      <td>Yes</td>\n",
       "      <td>No</td>\n",
       "      <td>Yes</td>\n",
       "      <td>Completed</td>\n",
       "      <td>16</td>\n",
       "      <td>...</td>\n",
       "      <td>8</td>\n",
       "      <td>Completed</td>\n",
       "      <td>Yes</td>\n",
       "      <td>No</td>\n",
       "      <td>29</td>\n",
       "      <td>Completed</td>\n",
       "      <td>Yes</td>\n",
       "      <td>Matched one of the three racers on the podium</td>\n",
       "      <td>Yes</td>\n",
       "      <td>No</td>\n",
       "    </tr>\n",
       "  </tbody>\n",
       "</table>\n",
       "<p>5 rows × 39 columns</p>\n",
       "</div>"
      ],
      "text/plain": [
       "  mobile  web  test_id task-1-answer  task-1-time task-1-q1 task-1-q2  \\\n",
       "0     No  Yes        1     Completed           20       Yes        No   \n",
       "1     No  Yes        2     Completed           18       Yes        No   \n",
       "2     No  Yes        3     Completed           16       Yes        No   \n",
       "3     No  Yes        4     Completed           21       Yes        No   \n",
       "4     No  Yes        5     Completed           20       Yes        No   \n",
       "\n",
       "  task-1-q3 task-2-answer  task-2-time  ... task-7-time task-7-answer  \\\n",
       "0       Yes     Completed           18  ...           6     Completed   \n",
       "1       Yes     Completed           17  ...          10  CompletedYes   \n",
       "2       Yes     Completed           16  ...          11     Completed   \n",
       "3       Yes     Completed           19  ...           9     Completed   \n",
       "4       Yes     Completed           16  ...           8     Completed   \n",
       "\n",
       "   task-7-q1                                         task-7-q2 task-8-time  \\\n",
       "0        Yes  Yes, unclear that flags represent previous races          29   \n",
       "1        Yes                                                No          27   \n",
       "2        Yes                                                No          30   \n",
       "3        Yes                                                No          27   \n",
       "4        Yes                                                No          29   \n",
       "\n",
       "  task-8-answer  task-8-q1                                      task-8-q2  \\\n",
       "0     Completed        Yes  Matched one of the three racers on the podium   \n",
       "1     Completed        Yes  Matched one of the three racers on the podium   \n",
       "2     Completed        Yes  Matched one of the three racers on the podium   \n",
       "3     Completed        Yes  Matched one of the three racers on the podium   \n",
       "4     Completed        Yes  Matched one of the three racers on the podium   \n",
       "\n",
       "  task-8-q3                                          task-8-q4  \n",
       "0       Yes  Yes, the flags on the league screen need label...  \n",
       "1       Yes                                                 No  \n",
       "2       Yes                                                 No  \n",
       "3       Yes                                                 No  \n",
       "4       Yes                                                 No  \n",
       "\n",
       "[5 rows x 39 columns]"
      ]
     },
     "execution_count": 1,
     "metadata": {},
     "output_type": "execute_result"
    }
   ],
   "source": [
    "import pandas as pd\n",
    "import matplotlib.pyplot as plt\n",
    "\n",
    "# Load\n",
    "file_path = 'user-testing-2.xlsx'\n",
    "data = pd.read_excel(file_path)\n",
    "\n",
    "# Display the first few rows to verify the data loaded correctly\n",
    "data.head()"
   ]
  },
  {
   "cell_type": "markdown",
   "id": "3c471ddf-f9c8-4bc0-8a64-c1e340ba2f35",
   "metadata": {},
   "source": [
    "---\n",
    "## Task 1: Creating an Account on RaceVision\n",
    "\n",
    "### Goal: Evaluate if the account creation process is straightforward and user-friendly.\n",
    "\n",
    "### Instructions: “Please create a new account on RaceVision using the sign-up feature.”\n",
    "\n",
    "#### Follow-up Questions:\n",
    "- Was it easy to locate the sign-up option?\n",
    "- Did you encounter any difficulties during the registration process?\n",
    "- Were the instructions and feedback (e.g., error messages) clear and helpful?\n"
   ]
  },
  {
   "cell_type": "code",
   "execution_count": 2,
   "id": "a54047b8-53fa-4916-8fb9-5f6acb245862",
   "metadata": {},
   "outputs": [
    {
     "data": {
      "text/html": [
       "<div>\n",
       "<style scoped>\n",
       "    .dataframe tbody tr th:only-of-type {\n",
       "        vertical-align: middle;\n",
       "    }\n",
       "\n",
       "    .dataframe tbody tr th {\n",
       "        vertical-align: top;\n",
       "    }\n",
       "\n",
       "    .dataframe thead th {\n",
       "        text-align: right;\n",
       "    }\n",
       "</style>\n",
       "<table border=\"1\" class=\"dataframe\">\n",
       "  <thead>\n",
       "    <tr style=\"text-align: right;\">\n",
       "      <th></th>\n",
       "      <th>test_id</th>\n",
       "      <th>task-1-answer</th>\n",
       "      <th>task-1-time</th>\n",
       "      <th>task-1-q1</th>\n",
       "      <th>task-1-q2</th>\n",
       "      <th>task-1-q3</th>\n",
       "    </tr>\n",
       "  </thead>\n",
       "  <tbody>\n",
       "    <tr>\n",
       "      <th>0</th>\n",
       "      <td>1</td>\n",
       "      <td>Completed</td>\n",
       "      <td>20</td>\n",
       "      <td>Yes</td>\n",
       "      <td>No</td>\n",
       "      <td>Yes</td>\n",
       "    </tr>\n",
       "    <tr>\n",
       "      <th>1</th>\n",
       "      <td>2</td>\n",
       "      <td>Completed</td>\n",
       "      <td>18</td>\n",
       "      <td>Yes</td>\n",
       "      <td>No</td>\n",
       "      <td>Yes</td>\n",
       "    </tr>\n",
       "    <tr>\n",
       "      <th>2</th>\n",
       "      <td>3</td>\n",
       "      <td>Completed</td>\n",
       "      <td>16</td>\n",
       "      <td>Yes</td>\n",
       "      <td>No</td>\n",
       "      <td>Yes</td>\n",
       "    </tr>\n",
       "    <tr>\n",
       "      <th>3</th>\n",
       "      <td>4</td>\n",
       "      <td>Completed</td>\n",
       "      <td>21</td>\n",
       "      <td>Yes</td>\n",
       "      <td>No</td>\n",
       "      <td>Yes</td>\n",
       "    </tr>\n",
       "    <tr>\n",
       "      <th>4</th>\n",
       "      <td>5</td>\n",
       "      <td>Completed</td>\n",
       "      <td>20</td>\n",
       "      <td>Yes</td>\n",
       "      <td>No</td>\n",
       "      <td>Yes</td>\n",
       "    </tr>\n",
       "  </tbody>\n",
       "</table>\n",
       "</div>"
      ],
      "text/plain": [
       "   test_id task-1-answer  task-1-time task-1-q1 task-1-q2 task-1-q3\n",
       "0        1     Completed           20       Yes        No       Yes\n",
       "1        2     Completed           18       Yes        No       Yes\n",
       "2        3     Completed           16       Yes        No       Yes\n",
       "3        4     Completed           21       Yes        No       Yes\n",
       "4        5     Completed           20       Yes        No       Yes"
      ]
     },
     "execution_count": 2,
     "metadata": {},
     "output_type": "execute_result"
    }
   ],
   "source": [
    "# Identify Task 1 columns\n",
    "task1_columns = [col for col in data.columns if col.startswith('task-1')]\n",
    "\n",
    "# Extract Task 1 data\n",
    "task1_data = data[['test_id'] + task1_columns]\n",
    "\n",
    "# Display the first few rows\n",
    "task1_data.head()"
   ]
  },
  {
   "cell_type": "code",
   "execution_count": 3,
   "id": "e312c39d-4408-472b-865d-4cef5f97cef0",
   "metadata": {},
   "outputs": [
    {
     "name": "stdout",
     "output_type": "stream",
     "text": [
      "count    12.000000\n",
      "mean     19.500000\n",
      "std       2.393172\n",
      "min      16.000000\n",
      "25%      17.750000\n",
      "50%      19.500000\n",
      "75%      21.250000\n",
      "max      23.000000\n",
      "Name: task-1-time, dtype: float64\n"
     ]
    }
   ],
   "source": [
    "# Calculate descriptive statistics\n",
    "task1_time_stats = task1_data['task-1-time'].describe()\n",
    "print(task1_time_stats)"
   ]
  },
  {
   "cell_type": "code",
   "execution_count": 34,
   "id": "2f689e55-f823-4b93-a516-ebd7e6266a5b",
   "metadata": {},
   "outputs": [
    {
     "data": {
      "image/png": "[encoded data removed]",
      "text/plain": [
       "<Figure size 720x432 with 1 Axes>"
      ]
     },
     "metadata": {
      "needs_background": "light"
     },
     "output_type": "display_data"
    }
   ],
   "source": [
    "# Plot a bar chart of task times per participant\n",
    "plt.figure(figsize=(10, 6))\n",
    "plt.bar(task1_data['test_id'], task1_data['task-1-time'], edgecolor='black', color='lightgreen')\n",
    "plt.title('Time Taken for Task 1 by Participant')\n",
    "plt.xlabel('Participant ID')\n",
    "plt.ylabel('Time (seconds)')\n",
    "plt.xticks(task1_data['test_id'])\n",
    "plt.show()"
   ]
  },
  {
   "cell_type": "code",
   "execution_count": 5,
   "id": "7c111e9f-bf71-48ac-b9e2-d74b7fa53bdb",
   "metadata": {},
   "outputs": [
    {
     "name": "stdout",
     "output_type": "stream",
     "text": [
      "Question 1 Responses:\n",
      "Yes    12\n",
      "Name: task-1-q1, dtype: int64\n",
      "\n",
      "Question 2 Responses:\n",
      "No    12\n",
      "Name: task-1-q2, dtype: int64\n",
      "\n",
      "Question 3 Responses:\n",
      "No    12\n",
      "Name: task-1-q2, dtype: int64\n"
     ]
    }
   ],
   "source": [
    "# Question 1 responses\n",
    "q1_counts = task1_data['task-1-q1'].value_counts()\n",
    "print(\"Question 1 Responses:\")\n",
    "print(q1_counts)\n",
    "\n",
    "# Question 2 responses\n",
    "q2_counts = task1_data['task-1-q2'].value_counts()\n",
    "print(\"\\nQuestion 2 Responses:\")\n",
    "print(q2_counts)\n",
    "\n",
    "# Question 3 responses\n",
    "q3_counts = task1_data['task-1-q3'].value_counts()\n",
    "print(\"\\nQuestion 3 Responses:\")\n",
    "print(q2_counts)"
   ]
  },
  {
   "cell_type": "code",
   "execution_count": 6,
   "id": "9c3edf9d-354a-4bd3-a709-3d8a8cb93851",
   "metadata": {},
   "outputs": [
    {
     "data": {
      "image/png": "[encoded data removed]",
      "text/plain": [
       "<Figure size 864x432 with 1 Axes>"
      ]
     },
     "metadata": {
      "needs_background": "light"
     },
     "output_type": "display_data"
    },
    {
     "data": {
      "image/png": "[encoded data removed]",
      "text/plain": [
       "<Figure size 576x432 with 1 Axes>"
      ]
     },
     "metadata": {
      "needs_background": "light"
     },
     "output_type": "display_data"
    },
    {
     "data": {
      "image/png": "[encoded data removed]",
      "text/plain": [
       "<Figure size 576x432 with 1 Axes>"
      ]
     },
     "metadata": {
      "needs_background": "light"
     },
     "output_type": "display_data"
    }
   ],
   "source": [
    "# Plot for Question 1\n",
    "plt.figure(figsize=(12, 6))\n",
    "q1_counts.plot(kind='bar', edgecolor='black', color='skyblue')\n",
    "plt.title('Responses to \"Was it easy to locate the sign-up option?\"')\n",
    "plt.xlabel('Response')\n",
    "plt.ylabel('Number of Participants')\n",
    "plt.xticks(rotation=0)\n",
    "plt.show()\n",
    "\n",
    "# Plot for Question 2\n",
    "plt.figure(figsize=(8, 6))\n",
    "q2_counts.plot(kind='bar', edgecolor='black', color='salmon')\n",
    "plt.title('Responses to \"Did you encounter any difficulties during the registration process\"')\n",
    "plt.xlabel('Response')\n",
    "plt.ylabel('Number of Participants')\n",
    "plt.xticks(rotation=0)\n",
    "plt.show()\n",
    "\n",
    "# Plot for Question 3\n",
    "plt.figure(figsize=(8, 6))\n",
    "q3_counts.plot(kind='bar', edgecolor='black', color='skyblue')\n",
    "plt.title('Responses to \"Were the instructions and feedback (e.g., error messages) clear and helpful?\"')\n",
    "plt.xlabel('Response')\n",
    "plt.ylabel('Number of Participants')\n",
    "plt.xticks(rotation=0)\n",
    "plt.show()\n"
   ]
  },
  {
   "cell_type": "markdown",
   "id": "e1c5165d-62ea-4334-8f2c-c4d5d7c7c488",
   "metadata": {},
   "source": [
    "---\n",
    "## Task 2: Making Predictions for the Upcoming Race\n",
    "\n",
    "### Goal: Evaluate if users can easily access the prediction section and make their predictions for the next Formula 1 race.\n",
    "\n",
    "### Instructions: “Please make your predictions for the upcoming Formula 1 race.” \n",
    "\n",
    "#### Follow-up Questions:\n",
    "- Were you able to find the prediction section for the upcoming race quickly?\n",
    "- Was the prediction process easy to understand and complete?\n"
   ]
  },
  {
   "cell_type": "code",
   "execution_count": 7,
   "id": "44a42f5d-e21b-4410-a4a8-00f28bf41f07",
   "metadata": {},
   "outputs": [
    {
     "data": {
      "text/html": [
       "<div>\n",
       "<style scoped>\n",
       "    .dataframe tbody tr th:only-of-type {\n",
       "        vertical-align: middle;\n",
       "    }\n",
       "\n",
       "    .dataframe tbody tr th {\n",
       "        vertical-align: top;\n",
       "    }\n",
       "\n",
       "    .dataframe thead th {\n",
       "        text-align: right;\n",
       "    }\n",
       "</style>\n",
       "<table border=\"1\" class=\"dataframe\">\n",
       "  <thead>\n",
       "    <tr style=\"text-align: right;\">\n",
       "      <th></th>\n",
       "      <th>test_id</th>\n",
       "      <th>task-2-answer</th>\n",
       "      <th>task-2-time</th>\n",
       "      <th>task-2-q1</th>\n",
       "      <th>task-2-q2</th>\n",
       "    </tr>\n",
       "  </thead>\n",
       "  <tbody>\n",
       "    <tr>\n",
       "      <th>0</th>\n",
       "      <td>1</td>\n",
       "      <td>Completed</td>\n",
       "      <td>18</td>\n",
       "      <td>Yes</td>\n",
       "      <td>Yes</td>\n",
       "    </tr>\n",
       "    <tr>\n",
       "      <th>1</th>\n",
       "      <td>2</td>\n",
       "      <td>Completed</td>\n",
       "      <td>17</td>\n",
       "      <td>Yes</td>\n",
       "      <td>Yes</td>\n",
       "    </tr>\n",
       "    <tr>\n",
       "      <th>2</th>\n",
       "      <td>3</td>\n",
       "      <td>Completed</td>\n",
       "      <td>16</td>\n",
       "      <td>Yes</td>\n",
       "      <td>Yes</td>\n",
       "    </tr>\n",
       "    <tr>\n",
       "      <th>3</th>\n",
       "      <td>4</td>\n",
       "      <td>Completed</td>\n",
       "      <td>19</td>\n",
       "      <td>Yes</td>\n",
       "      <td>Yes</td>\n",
       "    </tr>\n",
       "    <tr>\n",
       "      <th>4</th>\n",
       "      <td>5</td>\n",
       "      <td>Completed</td>\n",
       "      <td>16</td>\n",
       "      <td>Yes</td>\n",
       "      <td>Yes</td>\n",
       "    </tr>\n",
       "  </tbody>\n",
       "</table>\n",
       "</div>"
      ],
      "text/plain": [
       "   test_id task-2-answer  task-2-time task-2-q1 task-2-q2\n",
       "0        1     Completed           18       Yes       Yes\n",
       "1        2     Completed           17       Yes       Yes\n",
       "2        3     Completed           16       Yes       Yes\n",
       "3        4     Completed           19       Yes       Yes\n",
       "4        5     Completed           16       Yes       Yes"
      ]
     },
     "execution_count": 7,
     "metadata": {},
     "output_type": "execute_result"
    }
   ],
   "source": [
    "# Identify Task 2 columns\n",
    "task2_columns = [col for col in data.columns if col.startswith('task-2')]\n",
    "\n",
    "# Extract Task 2 data\n",
    "task2_data = data[['test_id'] + task2_columns]\n",
    "\n",
    "# Display the first few rows\n",
    "task2_data.head()"
   ]
  },
  {
   "cell_type": "code",
   "execution_count": 8,
   "id": "e0556de4-d069-4a2c-9e8c-112c3277f692",
   "metadata": {},
   "outputs": [
    {
     "name": "stdout",
     "output_type": "stream",
     "text": [
      "Descriptive statistics for Task 2 completion time:\n",
      "count    12.000000\n",
      "mean     16.916667\n",
      "std       1.781640\n",
      "min      14.000000\n",
      "25%      16.000000\n",
      "50%      16.500000\n",
      "75%      18.250000\n",
      "max      20.000000\n",
      "Name: task-2-time, dtype: float64\n"
     ]
    }
   ],
   "source": [
    "# Calculate descriptive statistics\n",
    "task2_time_stats = task2_data['task-2-time'].describe()\n",
    "print(\"Descriptive statistics for Task 2 completion time:\")\n",
    "print(task2_time_stats)"
   ]
  },
  {
   "cell_type": "code",
   "execution_count": 9,
   "id": "d260cde4-7de8-43db-8484-3f056a2d04b6",
   "metadata": {},
   "outputs": [
    {
     "data": {
      "image/png": "[encoded data removed]",
      "text/plain": [
       "<Figure size 720x432 with 1 Axes>"
      ]
     },
     "metadata": {
      "needs_background": "light"
     },
     "output_type": "display_data"
    }
   ],
   "source": [
    "# Plot a bar chart of task times per participant\n",
    "plt.figure(figsize=(10, 6))\n",
    "bars = plt.bar(task2_data['test_id'], task2_data['task-2-time'], edgecolor='black', color='lightgreen')\n",
    "plt.title('Time Taken for Task 2 by Participant')\n",
    "plt.xlabel('Participant ID')\n",
    "plt.ylabel('Time (seconds)')\n",
    "plt.xticks(task2_data['test_id'])\n",
    "\n",
    "# Add data labels on top of each bar\n",
    "for bar in bars:\n",
    "    yval = bar.get_height()\n",
    "    plt.text(bar.get_x() + bar.get_width()/2.0, yval + 0.5, f'{yval:.1f}', ha='center', va='bottom')\n",
    "\n",
    "plt.show()"
   ]
  },
  {
   "cell_type": "code",
   "execution_count": 10,
   "id": "f764ff9d-aec8-4002-9d03-246ed3ee3df7",
   "metadata": {},
   "outputs": [
    {
     "name": "stdout",
     "output_type": "stream",
     "text": [
      "\n",
      "Responses to: Were you able to find the prediction section for the upcoming race quickly?\n",
      "Yes    12\n",
      "Name: task-2-q1, dtype: int64\n"
     ]
    },
    {
     "data": {
      "image/png": "[encoded data removed]",
      "text/plain": [
       "<Figure size 576x432 with 1 Axes>"
      ]
     },
     "metadata": {
      "needs_background": "light"
     },
     "output_type": "display_data"
    },
    {
     "name": "stdout",
     "output_type": "stream",
     "text": [
      "\n",
      "Responses to: Was the prediction process easy to understand and complete?\n",
      "Yes    12\n",
      "Name: task-2-q2, dtype: int64\n"
     ]
    },
    {
     "data": {
      "image/png": "[encoded data removed]",
      "text/plain": [
       "<Figure size 576x432 with 1 Axes>"
      ]
     },
     "metadata": {
      "needs_background": "light"
     },
     "output_type": "display_data"
    }
   ],
   "source": [
    "# List of follow-up questions\n",
    "questions = {\n",
    "    'task-2-q1': \"Were you able to find the prediction section for the upcoming race quickly?\",\n",
    "    'task-2-q2': \"Was the prediction process easy to understand and complete?\",\n",
    "}\n",
    "\n",
    "# Analyze responses\n",
    "for col, question in questions.items():\n",
    "    print(f\"\\nResponses to: {question}\")\n",
    "    counts = task2_data[col].value_counts()\n",
    "    print(counts)\n",
    "\n",
    "    # Plot the responses\n",
    "    plt.figure(figsize=(8, 6))\n",
    "    counts.plot(kind='bar', color='skyblue', edgecolor='black')\n",
    "    plt.title(question)\n",
    "    plt.xlabel('Response')\n",
    "    plt.ylabel('Number of Participants')\n",
    "    plt.xticks(rotation=0)\n",
    "    plt.show()"
   ]
  },
  {
   "cell_type": "markdown",
   "id": "6cf07a2a-fad2-4193-aae3-718f4ffa9b81",
   "metadata": {},
   "source": [
    "---\n",
    "## Task 3: Viewing the Global Leaderboard\n",
    "\n",
    "### Goal: Assess how intuitive it is for users to access and interpret the global leaderboard.\n",
    "\n",
    "### Instructions: “Locate the global leaderboard in the RaceVision platform and find out which user is currently ranked first.”\n",
    "\n",
    "#### Follow-up Questions:\n",
    "- Was it easy to find the global leaderboard?\n",
    "- How clear was the information displayed on the leaderboard?\n"
   ]
  },
  {
   "cell_type": "code",
   "execution_count": 11,
   "id": "73d60151-4c1e-405c-b26a-2719eb88c055",
   "metadata": {},
   "outputs": [
    {
     "data": {
      "text/html": [
       "<div>\n",
       "<style scoped>\n",
       "    .dataframe tbody tr th:only-of-type {\n",
       "        vertical-align: middle;\n",
       "    }\n",
       "\n",
       "    .dataframe tbody tr th {\n",
       "        vertical-align: top;\n",
       "    }\n",
       "\n",
       "    .dataframe thead th {\n",
       "        text-align: right;\n",
       "    }\n",
       "</style>\n",
       "<table border=\"1\" class=\"dataframe\">\n",
       "  <thead>\n",
       "    <tr style=\"text-align: right;\">\n",
       "      <th></th>\n",
       "      <th>test_id</th>\n",
       "      <th>task-3-time</th>\n",
       "      <th>task-3-answer</th>\n",
       "      <th>task-3-q1</th>\n",
       "      <th>task-3-q2</th>\n",
       "    </tr>\n",
       "  </thead>\n",
       "  <tbody>\n",
       "    <tr>\n",
       "      <th>0</th>\n",
       "      <td>1</td>\n",
       "      <td>22</td>\n",
       "      <td>Completed</td>\n",
       "      <td>Yes</td>\n",
       "      <td>Very clear</td>\n",
       "    </tr>\n",
       "    <tr>\n",
       "      <th>1</th>\n",
       "      <td>2</td>\n",
       "      <td>17</td>\n",
       "      <td>Completed</td>\n",
       "      <td>Yes</td>\n",
       "      <td>Very clear</td>\n",
       "    </tr>\n",
       "    <tr>\n",
       "      <th>2</th>\n",
       "      <td>3</td>\n",
       "      <td>12</td>\n",
       "      <td>Completed</td>\n",
       "      <td>Yes</td>\n",
       "      <td>Clear</td>\n",
       "    </tr>\n",
       "    <tr>\n",
       "      <th>3</th>\n",
       "      <td>4</td>\n",
       "      <td>19</td>\n",
       "      <td>Completed</td>\n",
       "      <td>Yes</td>\n",
       "      <td>Very clear</td>\n",
       "    </tr>\n",
       "    <tr>\n",
       "      <th>4</th>\n",
       "      <td>5</td>\n",
       "      <td>13</td>\n",
       "      <td>Completed</td>\n",
       "      <td>Yes</td>\n",
       "      <td>Clear</td>\n",
       "    </tr>\n",
       "  </tbody>\n",
       "</table>\n",
       "</div>"
      ],
      "text/plain": [
       "   test_id  task-3-time task-3-answer task-3-q1   task-3-q2\n",
       "0        1           22     Completed       Yes  Very clear\n",
       "1        2           17     Completed       Yes  Very clear\n",
       "2        3           12     Completed       Yes       Clear\n",
       "3        4           19     Completed       Yes  Very clear\n",
       "4        5           13     Completed       Yes       Clear"
      ]
     },
     "execution_count": 11,
     "metadata": {},
     "output_type": "execute_result"
    }
   ],
   "source": [
    "# Identify Task 3 columns\n",
    "task3_columns = [col for col in data.columns if col.startswith('task-3')]\n",
    "\n",
    "# Extract Task 3 data\n",
    "task3_data = data[['test_id'] + task3_columns]\n",
    "\n",
    "# Display the first few rows\n",
    "task3_data.head()"
   ]
  },
  {
   "cell_type": "code",
   "execution_count": 12,
   "id": "02910126-7d6a-478e-8d93-88e53ef52488",
   "metadata": {},
   "outputs": [
    {
     "name": "stdout",
     "output_type": "stream",
     "text": [
      "Descriptive statistics for Task 3 completion time:\n",
      "count    12.000000\n",
      "mean     14.916667\n",
      "std       3.396745\n",
      "min      11.000000\n",
      "25%      12.000000\n",
      "50%      14.000000\n",
      "75%      17.250000\n",
      "max      22.000000\n",
      "Name: task-3-time, dtype: float64\n"
     ]
    }
   ],
   "source": [
    "# Calculate descriptive statistics\n",
    "task3_time_stats = task3_data['task-3-time'].describe()\n",
    "print(\"Descriptive statistics for Task 3 completion time:\")\n",
    "print(task3_time_stats)"
   ]
  },
  {
   "cell_type": "code",
   "execution_count": 13,
   "id": "930d992f-737e-4f8b-aad7-2d1a23e36bb7",
   "metadata": {},
   "outputs": [
    {
     "data": {
      "image/png": "[encoded data removed]",
      "text/plain": [
       "<Figure size 720x432 with 1 Axes>"
      ]
     },
     "metadata": {
      "needs_background": "light"
     },
     "output_type": "display_data"
    }
   ],
   "source": [
    "import matplotlib.pyplot as plt\n",
    "\n",
    "# Plot a bar chart of task times per participant\n",
    "plt.figure(figsize=(10, 6))\n",
    "bars = plt.bar(task3_data['test_id'], task3_data['task-3-time'], edgecolor='black', color='skyblue')\n",
    "plt.title('Time Taken for Task 3 by Participant')\n",
    "plt.xlabel('Participant ID')\n",
    "plt.ylabel('Time (seconds)')\n",
    "plt.xticks(task3_data['test_id'])\n",
    "\n",
    "# Add data labels on top of each bar\n",
    "for bar in bars:\n",
    "    yval = bar.get_height()\n",
    "    plt.text(bar.get_x() + bar.get_width()/2.0, yval + 0.3, f'{yval:.1f}', ha='center', va='bottom')\n",
    "\n",
    "plt.show()"
   ]
  },
  {
   "cell_type": "code",
   "execution_count": 14,
   "id": "568ea74d-9535-47f6-834d-0ce84610f7cf",
   "metadata": {},
   "outputs": [
    {
     "name": "stdout",
     "output_type": "stream",
     "text": [
      "\n",
      "Responses to: Was it easy to find the global leaderboard?\n",
      "Yes    12\n",
      "Name: task-3-q1, dtype: int64\n"
     ]
    },
    {
     "data": {
      "image/png": "[encoded data removed]",
      "text/plain": [
       "<Figure size 576x432 with 1 Axes>"
      ]
     },
     "metadata": {
      "needs_background": "light"
     },
     "output_type": "display_data"
    },
    {
     "name": "stdout",
     "output_type": "stream",
     "text": [
      "\n",
      "Responses to: How clear was the information displayed on the leaderboard?\n",
      "Very clear    8\n",
      "Clear         4\n",
      "Name: task-3-q2, dtype: int64\n"
     ]
    },
    {
     "data": {
      "image/png": "[encoded data removed]",
      "text/plain": [
       "<Figure size 576x432 with 1 Axes>"
      ]
     },
     "metadata": {
      "needs_background": "light"
     },
     "output_type": "display_data"
    }
   ],
   "source": [
    "# List of follow-up questions\n",
    "questions = {\n",
    "    'task-3-q1': \"Was it easy to find the global leaderboard?\",\n",
    "    'task-3-q2': \"How clear was the information displayed on the leaderboard?\",\n",
    "}\n",
    "\n",
    "# Analyze responses\n",
    "for col, question in questions.items():\n",
    "    print(f\"\\nResponses to: {question}\")\n",
    "    counts = task3_data[col].value_counts()\n",
    "    print(counts)\n",
    "    \n",
    "    # Plot the responses\n",
    "    plt.figure(figsize=(8, 6))\n",
    "    counts.plot(kind='bar', color='skyblue', edgecolor='black')\n",
    "    plt.title(question)\n",
    "    plt.xlabel('Response')\n",
    "    plt.ylabel('Number of Participants')\n",
    "    plt.xticks(rotation=0)\n",
    "    plt.show()"
   ]
  },
  {
   "cell_type": "markdown",
   "id": "362297a4-78e3-4ef9-b9a1-3e359deb4d9e",
   "metadata": {},
   "source": [
    "---\n",
    "## Task 4: Using the Steering-Wheel Feature for Navigation\n",
    "\n",
    "### Goal: Determine if the steering-wheel navigation is intuitive and functional.\n",
    "\n",
    "### Instructions: “Try using the steering-wheel feature to move between screens. Does it feel natural to navigate this way?”\n",
    "\n",
    "#### Follow-up Questions:\n",
    "- Was it easy to control the steering wheel?\n",
    "- Did the tutorial help you understand how the steering wheel navigation works?\n"
   ]
  },
  {
   "cell_type": "code",
   "execution_count": 15,
   "id": "36b083e4-d8e7-45bf-970d-0156463df14d",
   "metadata": {},
   "outputs": [
    {
     "data": {
      "text/html": [
       "<div>\n",
       "<style scoped>\n",
       "    .dataframe tbody tr th:only-of-type {\n",
       "        vertical-align: middle;\n",
       "    }\n",
       "\n",
       "    .dataframe tbody tr th {\n",
       "        vertical-align: top;\n",
       "    }\n",
       "\n",
       "    .dataframe thead th {\n",
       "        text-align: right;\n",
       "    }\n",
       "</style>\n",
       "<table border=\"1\" class=\"dataframe\">\n",
       "  <thead>\n",
       "    <tr style=\"text-align: right;\">\n",
       "      <th></th>\n",
       "      <th>test_id</th>\n",
       "      <th>task-4-time</th>\n",
       "      <th>task-4-answer</th>\n",
       "      <th>task-4-q1</th>\n",
       "      <th>task-4-q2</th>\n",
       "    </tr>\n",
       "  </thead>\n",
       "  <tbody>\n",
       "    <tr>\n",
       "      <th>0</th>\n",
       "      <td>1</td>\n",
       "      <td>15</td>\n",
       "      <td>Completed</td>\n",
       "      <td>Yes</td>\n",
       "      <td>Yes</td>\n",
       "    </tr>\n",
       "    <tr>\n",
       "      <th>1</th>\n",
       "      <td>2</td>\n",
       "      <td>16</td>\n",
       "      <td>Completed</td>\n",
       "      <td>Yes</td>\n",
       "      <td>Yes</td>\n",
       "    </tr>\n",
       "    <tr>\n",
       "      <th>2</th>\n",
       "      <td>3</td>\n",
       "      <td>11</td>\n",
       "      <td>Completed</td>\n",
       "      <td>Yes</td>\n",
       "      <td>Yes</td>\n",
       "    </tr>\n",
       "    <tr>\n",
       "      <th>3</th>\n",
       "      <td>4</td>\n",
       "      <td>20</td>\n",
       "      <td>Completed</td>\n",
       "      <td>Yes</td>\n",
       "      <td>Yes</td>\n",
       "    </tr>\n",
       "    <tr>\n",
       "      <th>4</th>\n",
       "      <td>5</td>\n",
       "      <td>23</td>\n",
       "      <td>Completed</td>\n",
       "      <td>Yes</td>\n",
       "      <td>Yes</td>\n",
       "    </tr>\n",
       "  </tbody>\n",
       "</table>\n",
       "</div>"
      ],
      "text/plain": [
       "   test_id  task-4-time task-4-answer task-4-q1 task-4-q2\n",
       "0        1           15     Completed       Yes       Yes\n",
       "1        2           16     Completed       Yes       Yes\n",
       "2        3           11     Completed       Yes       Yes\n",
       "3        4           20     Completed       Yes       Yes\n",
       "4        5           23     Completed       Yes       Yes"
      ]
     },
     "execution_count": 15,
     "metadata": {},
     "output_type": "execute_result"
    }
   ],
   "source": [
    "# Identify Task 4 columns\n",
    "task4_columns = [col for col in data.columns if col.startswith('task-4')]\n",
    "\n",
    "# Extract Task 4 data\n",
    "task4_data = data[['test_id'] + task4_columns]\n",
    "\n",
    "# Display the first few rows\n",
    "task4_data.head()"
   ]
  },
  {
   "cell_type": "code",
   "execution_count": 16,
   "id": "2c92e7b7-5e11-427d-968c-dec868d0c3aa",
   "metadata": {},
   "outputs": [
    {
     "name": "stdout",
     "output_type": "stream",
     "text": [
      "Descriptive statistics for Task 4 completion time:\n",
      "count    12.000000\n",
      "mean     16.500000\n",
      "std       3.919647\n",
      "min      11.000000\n",
      "25%      14.500000\n",
      "50%      16.000000\n",
      "75%      19.250000\n",
      "max      23.000000\n",
      "Name: task-4-time, dtype: float64\n"
     ]
    }
   ],
   "source": [
    "# Calculate descriptive statistics\n",
    "task4_time_stats = task4_data['task-4-time'].describe()\n",
    "print(\"Descriptive statistics for Task 4 completion time:\")\n",
    "print(task4_time_stats)"
   ]
  },
  {
   "cell_type": "code",
   "execution_count": 17,
   "id": "b8b26070-33f1-4ad1-b701-0c9a33677ba0",
   "metadata": {},
   "outputs": [
    {
     "data": {
      "image/png": "[encoded data removed]",
      "text/plain": [
       "<Figure size 720x432 with 1 Axes>"
      ]
     },
     "metadata": {
      "needs_background": "light"
     },
     "output_type": "display_data"
    }
   ],
   "source": [
    "import matplotlib.pyplot as plt\n",
    "\n",
    "# Plot a bar chart of task times per participant\n",
    "plt.figure(figsize=(10, 6))\n",
    "bars = plt.bar(task4_data['test_id'], task4_data['task-4-time'], edgecolor='black', color='lightgreen')\n",
    "plt.title('Time Taken for Task 4 by Participant')\n",
    "plt.xlabel('Participant ID')\n",
    "plt.ylabel('Time (seconds)')\n",
    "plt.xticks(task4_data['test_id'])\n",
    "\n",
    "# Add data labels on top of each bar\n",
    "for bar in bars:\n",
    "    yval = bar.get_height()\n",
    "    plt.text(bar.get_x() + bar.get_width()/2.0, yval + 0.3, f'{yval:.1f}', ha='center', va='bottom')\n",
    "\n",
    "plt.show()"
   ]
  },
  {
   "cell_type": "code",
   "execution_count": 18,
   "id": "d979db89-1114-4023-97d1-02b0d0dc8c81",
   "metadata": {},
   "outputs": [
    {
     "name": "stdout",
     "output_type": "stream",
     "text": [
      "\n",
      "Responses to: Was it easy to control the steering wheel?\n",
      "Yes    12\n",
      "Name: task-4-q1, dtype: int64\n"
     ]
    },
    {
     "data": {
      "image/png": "[encoded data removed]",
      "text/plain": [
       "<Figure size 576x432 with 1 Axes>"
      ]
     },
     "metadata": {
      "needs_background": "light"
     },
     "output_type": "display_data"
    },
    {
     "name": "stdout",
     "output_type": "stream",
     "text": [
      "\n",
      "Responses to: Did the tutorial help you understand how the steering wheel navigation works?\n",
      "Yes    12\n",
      "Name: task-4-q2, dtype: int64\n"
     ]
    },
    {
     "data": {
      "image/png": "[encoded data removed]",
      "text/plain": [
       "<Figure size 576x432 with 1 Axes>"
      ]
     },
     "metadata": {
      "needs_background": "light"
     },
     "output_type": "display_data"
    }
   ],
   "source": [
    "# List of follow-up questions\n",
    "questions = {\n",
    "    'task-4-q1': \"Was it easy to control the steering wheel?\",\n",
    "    'task-4-q2': \"Did the tutorial help you understand how the steering wheel navigation works?\",\n",
    "}\n",
    "\n",
    "for col, question in questions.items():\n",
    "    print(f\"\\nResponses to: {question}\")\n",
    "    counts = task4_data[col].value_counts()\n",
    "    print(counts)\n",
    "    \n",
    "    # Plot the responses\n",
    "    plt.figure(figsize=(8, 6))\n",
    "    counts.plot(kind='bar', color='skyblue', edgecolor='black')\n",
    "    plt.title(question)\n",
    "    plt.xlabel('Response')\n",
    "    plt.ylabel('Number of Participants')\n",
    "    plt.xticks(rotation=0)\n",
    "    plt.show()"
   ]
  },
  {
   "cell_type": "markdown",
   "id": "576870ea-9bb9-4972-8755-24312b225ae0",
   "metadata": {},
   "source": [
    "---\n",
    "## Task 5: Joining a League\n",
    "\n",
    "### Goal: Assess the ease of joining a league in RaceVision using a provided league code.\n",
    "\n",
    "### Instructions: “Join the league named TUD by using the league code: 1A29FE. Confirm that you are successfully added to the league.”\n",
    "\n",
    "#### Follow-up Questions:\n",
    "- What do you think the purpose of the leagues in the game?\n",
    "- Do you know where to find the code to join a league?\n"
   ]
  },
  {
   "cell_type": "code",
   "execution_count": 19,
   "id": "8ac6ca4b-32ee-4907-b47b-1c0f19f96118",
   "metadata": {},
   "outputs": [
    {
     "data": {
      "text/html": [
       "<div>\n",
       "<style scoped>\n",
       "    .dataframe tbody tr th:only-of-type {\n",
       "        vertical-align: middle;\n",
       "    }\n",
       "\n",
       "    .dataframe tbody tr th {\n",
       "        vertical-align: top;\n",
       "    }\n",
       "\n",
       "    .dataframe thead th {\n",
       "        text-align: right;\n",
       "    }\n",
       "</style>\n",
       "<table border=\"1\" class=\"dataframe\">\n",
       "  <thead>\n",
       "    <tr style=\"text-align: right;\">\n",
       "      <th></th>\n",
       "      <th>test_id</th>\n",
       "      <th>task-5-time</th>\n",
       "      <th>task-5-answer</th>\n",
       "      <th>task-5-q1</th>\n",
       "      <th>task-5-q2</th>\n",
       "    </tr>\n",
       "  </thead>\n",
       "  <tbody>\n",
       "    <tr>\n",
       "      <th>0</th>\n",
       "      <td>1</td>\n",
       "      <td>32</td>\n",
       "      <td>Completed</td>\n",
       "      <td>To compete versus friends</td>\n",
       "      <td>Yes</td>\n",
       "    </tr>\n",
       "    <tr>\n",
       "      <th>1</th>\n",
       "      <td>2</td>\n",
       "      <td>26</td>\n",
       "      <td>Completed</td>\n",
       "      <td>To compete versus friends</td>\n",
       "      <td>Yes</td>\n",
       "    </tr>\n",
       "    <tr>\n",
       "      <th>2</th>\n",
       "      <td>3</td>\n",
       "      <td>24</td>\n",
       "      <td>Completed</td>\n",
       "      <td>To track progress</td>\n",
       "      <td>Yes</td>\n",
       "    </tr>\n",
       "    <tr>\n",
       "      <th>3</th>\n",
       "      <td>4</td>\n",
       "      <td>36</td>\n",
       "      <td>Completed</td>\n",
       "      <td>To compete versus friends</td>\n",
       "      <td>Yes</td>\n",
       "    </tr>\n",
       "    <tr>\n",
       "      <th>4</th>\n",
       "      <td>5</td>\n",
       "      <td>29</td>\n",
       "      <td>Completed</td>\n",
       "      <td>To compete versus friends</td>\n",
       "      <td>Yes</td>\n",
       "    </tr>\n",
       "  </tbody>\n",
       "</table>\n",
       "</div>"
      ],
      "text/plain": [
       "   test_id  task-5-time task-5-answer                  task-5-q1 task-5-q2\n",
       "0        1           32     Completed  To compete versus friends       Yes\n",
       "1        2           26     Completed  To compete versus friends       Yes\n",
       "2        3           24     Completed          To track progress       Yes\n",
       "3        4           36     Completed  To compete versus friends       Yes\n",
       "4        5           29     Completed  To compete versus friends       Yes"
      ]
     },
     "execution_count": 19,
     "metadata": {},
     "output_type": "execute_result"
    }
   ],
   "source": [
    "# Identify Task 5 columns\n",
    "task5_columns = [col for col in data.columns if col.startswith('task-5')]\n",
    "\n",
    "# Extract Task 5 data\n",
    "task5_data = data[['test_id'] + task5_columns]\n",
    "\n",
    "# Display the first few rows\n",
    "task5_data.head()"
   ]
  },
  {
   "cell_type": "code",
   "execution_count": 20,
   "id": "8c20173c-7307-40a0-bc71-dd7cdd5f2302",
   "metadata": {},
   "outputs": [
    {
     "name": "stdout",
     "output_type": "stream",
     "text": [
      "Descriptive statistics for Task 5 completion time:\n",
      "count    12.000000\n",
      "mean     29.500000\n",
      "std       4.188729\n",
      "min      24.000000\n",
      "25%      26.000000\n",
      "50%      28.500000\n",
      "75%      32.250000\n",
      "max      36.000000\n",
      "Name: task-5-time, dtype: float64\n"
     ]
    }
   ],
   "source": [
    "# Calculate descriptive statistics\n",
    "task5_time_stats = task5_data['task-5-time'].describe()\n",
    "print(\"Descriptive statistics for Task 5 completion time:\")\n",
    "print(task5_time_stats)"
   ]
  },
  {
   "cell_type": "code",
   "execution_count": 21,
   "id": "a5ff7d94-1b9f-4e09-ae22-fbb027a486f7",
   "metadata": {},
   "outputs": [
    {
     "data": {
      "image/png": "[encoded data removed]",
      "text/plain": [
       "<Figure size 720x432 with 1 Axes>"
      ]
     },
     "metadata": {
      "needs_background": "light"
     },
     "output_type": "display_data"
    }
   ],
   "source": [
    "import matplotlib.pyplot as plt\n",
    "\n",
    "# Plot a bar chart of task times per participant\n",
    "plt.figure(figsize=(10, 6))\n",
    "bars = plt.bar(task5_data['test_id'], task5_data['task-5-time'], edgecolor='black', color='lightgreen')\n",
    "plt.title('Time Taken for Task 5 by Participant')\n",
    "plt.xlabel('Participant ID')\n",
    "plt.ylabel('Time (seconds)')\n",
    "plt.xticks(task5_data['test_id'])\n",
    "\n",
    "# Add data labels on top of each bar\n",
    "for bar in bars:\n",
    "    yval = bar.get_height()\n",
    "    plt.text(bar.get_x() + bar.get_width()/2.0, yval + 0.5, f'{yval:.1f}', ha='center', va='bottom')\n",
    "\n",
    "plt.show()"
   ]
  },
  {
   "cell_type": "code",
   "execution_count": 22,
   "id": "63190c2a-970e-42a8-bed2-78d3e0936876",
   "metadata": {},
   "outputs": [
    {
     "name": "stdout",
     "output_type": "stream",
     "text": [
      "\n",
      "Responses to: What do you think the purpose of the leagues in the game?\n",
      "To compete versus friends    9\n",
      "To track progress            3\n",
      "Name: task-5-q1, dtype: int64\n"
     ]
    },
    {
     "data": {
      "image/png": "[encoded data removed]",
      "text/plain": [
       "<Figure size 576x432 with 1 Axes>"
      ]
     },
     "metadata": {
      "needs_background": "light"
     },
     "output_type": "display_data"
    },
    {
     "name": "stdout",
     "output_type": "stream",
     "text": [
      "\n",
      "Responses to: Do you know where to find the code to join a league?\n",
      "Yes    12\n",
      "Name: task-5-q2, dtype: int64\n"
     ]
    },
    {
     "data": {
      "image/png": "[encoded data removed]",
      "text/plain": [
       "<Figure size 576x432 with 1 Axes>"
      ]
     },
     "metadata": {
      "needs_background": "light"
     },
     "output_type": "display_data"
    }
   ],
   "source": [
    "# List of follow-up questions\n",
    "questions = {\n",
    "    'task-5-q1': \"What do you think the purpose of the leagues in the game?\",\n",
    "    'task-5-q2': \"Do you know where to find the code to join a league?\",\n",
    "}\n",
    "\n",
    "for col, question in questions.items():\n",
    "    print(f\"\\nResponses to: {question}\")\n",
    "    counts = task5_data[col].value_counts()\n",
    "    print(counts)\n",
    "    \n",
    "    # Plot the responses\n",
    "    plt.figure(figsize=(8, 6))\n",
    "    counts.plot(kind='bar', color='skyblue', edgecolor='black')\n",
    "    plt.title(question)\n",
    "    plt.xlabel('Response')\n",
    "    plt.ylabel('Number of Participants')\n",
    "    plt.xticks(rotation=0)\n",
    "    plt.show()"
   ]
  },
  {
   "cell_type": "markdown",
   "id": "a529bde0-9597-47f8-a8ca-b0ad8fb3657c",
   "metadata": {},
   "source": [
    "---\n",
    "## Task 6: Look for the Ranking of the Leagues of the Last São Paulo Grand Prix\n",
    "\n",
    "### Goal: Test the ability to find and view the league rankings for a specific race.\n",
    "\n",
    "### Instructions: “Find the rankings of the league for the last São Paulo Grand Prix. Can you locate the information quickly and easily?”\n",
    "\n",
    "#### Follow-up Questions:\n",
    "- Was it easy to find the league rankings for the São Paulo Grand Prix?\n",
    "- Did the interface help you quickly identify the relevant race and league rankings?\n",
    "- Were there any difficulties in understanding the information displayed?\n"
   ]
  },
  {
   "cell_type": "code",
   "execution_count": 23,
   "id": "31186e2c-4d79-489f-aa3a-abd6d4b1892f",
   "metadata": {},
   "outputs": [
    {
     "data": {
      "text/html": [
       "<div>\n",
       "<style scoped>\n",
       "    .dataframe tbody tr th:only-of-type {\n",
       "        vertical-align: middle;\n",
       "    }\n",
       "\n",
       "    .dataframe tbody tr th {\n",
       "        vertical-align: top;\n",
       "    }\n",
       "\n",
       "    .dataframe thead th {\n",
       "        text-align: right;\n",
       "    }\n",
       "</style>\n",
       "<table border=\"1\" class=\"dataframe\">\n",
       "  <thead>\n",
       "    <tr style=\"text-align: right;\">\n",
       "      <th></th>\n",
       "      <th>test_id</th>\n",
       "      <th>task-6-time</th>\n",
       "      <th>task-6-answer</th>\n",
       "      <th>task-6-q1</th>\n",
       "      <th>task-6-q2</th>\n",
       "      <th>task-6-q3</th>\n",
       "    </tr>\n",
       "  </thead>\n",
       "  <tbody>\n",
       "    <tr>\n",
       "      <th>0</th>\n",
       "      <td>1</td>\n",
       "      <td>17</td>\n",
       "      <td>Completed</td>\n",
       "      <td>Yes</td>\n",
       "      <td>Yes</td>\n",
       "      <td>No</td>\n",
       "    </tr>\n",
       "    <tr>\n",
       "      <th>1</th>\n",
       "      <td>2</td>\n",
       "      <td>20</td>\n",
       "      <td>Completed</td>\n",
       "      <td>Yes</td>\n",
       "      <td>Yes</td>\n",
       "      <td>No</td>\n",
       "    </tr>\n",
       "    <tr>\n",
       "      <th>2</th>\n",
       "      <td>3</td>\n",
       "      <td>31</td>\n",
       "      <td>Failed</td>\n",
       "      <td>No</td>\n",
       "      <td>No</td>\n",
       "      <td>No</td>\n",
       "    </tr>\n",
       "    <tr>\n",
       "      <th>3</th>\n",
       "      <td>4</td>\n",
       "      <td>27</td>\n",
       "      <td>Completed</td>\n",
       "      <td>Yes</td>\n",
       "      <td>Yes</td>\n",
       "      <td>No</td>\n",
       "    </tr>\n",
       "    <tr>\n",
       "      <th>4</th>\n",
       "      <td>5</td>\n",
       "      <td>39</td>\n",
       "      <td>Failed</td>\n",
       "      <td>No</td>\n",
       "      <td>No</td>\n",
       "      <td>No</td>\n",
       "    </tr>\n",
       "  </tbody>\n",
       "</table>\n",
       "</div>"
      ],
      "text/plain": [
       "   test_id  task-6-time task-6-answer task-6-q1 task-6-q2 task-6-q3\n",
       "0        1           17     Completed       Yes       Yes        No\n",
       "1        2           20     Completed       Yes       Yes        No\n",
       "2        3           31        Failed        No        No        No\n",
       "3        4           27     Completed       Yes       Yes        No\n",
       "4        5           39        Failed        No        No        No"
      ]
     },
     "execution_count": 23,
     "metadata": {},
     "output_type": "execute_result"
    }
   ],
   "source": [
    "# Identify Task 6 columns\n",
    "task6_columns = [col for col in data.columns if col.startswith('task-6')]\n",
    "\n",
    "# Extract Task 6 data\n",
    "task6_data = data[['test_id'] + task6_columns]\n",
    "\n",
    "# Display the first few rows\n",
    "task6_data.head()"
   ]
  },
  {
   "cell_type": "code",
   "execution_count": 24,
   "id": "dcb7f203-da96-44d3-aa38-cc36c4580fad",
   "metadata": {},
   "outputs": [
    {
     "name": "stdout",
     "output_type": "stream",
     "text": [
      "Descriptive statistics for Task 6 completion time:\n",
      "count    12.000000\n",
      "mean     26.083333\n",
      "std       7.229464\n",
      "min      17.000000\n",
      "25%      19.750000\n",
      "50%      26.500000\n",
      "75%      29.500000\n",
      "max      39.000000\n",
      "Name: task-6-time, dtype: float64\n"
     ]
    }
   ],
   "source": [
    "# Calculate descriptive statistics\n",
    "task6_time_stats = task6_data['task-6-time'].describe()\n",
    "print(\"Descriptive statistics for Task 6 completion time:\")\n",
    "print(task6_time_stats)"
   ]
  },
  {
   "cell_type": "code",
   "execution_count": 25,
   "id": "b2967264-4311-44be-9d5d-cd84689673ba",
   "metadata": {},
   "outputs": [
    {
     "data": {
      "image/png": "[encoded data removed]",
      "text/plain": [
       "<Figure size 720x432 with 1 Axes>"
      ]
     },
     "metadata": {
      "needs_background": "light"
     },
     "output_type": "display_data"
    }
   ],
   "source": [
    "import matplotlib.pyplot as plt\n",
    "\n",
    "# Plot a bar chart of task times per participant\n",
    "plt.figure(figsize=(10, 6))\n",
    "bars = plt.bar(task6_data['test_id'], task6_data['task-6-time'], edgecolor='black', color='lightgreen')\n",
    "plt.title('Time Taken for Task 6 by Participant')\n",
    "plt.xlabel('Participant ID')\n",
    "plt.ylabel('Time (seconds)')\n",
    "plt.xticks(task6_data['test_id'])\n",
    "\n",
    "# Add data labels on top of each bar\n",
    "for bar in bars:\n",
    "    yval = bar.get_height()\n",
    "    plt.text(bar.get_x() + bar.get_width()/2.0, yval + 1, f'{yval:.0f}', ha='center', va='bottom')\n",
    "\n",
    "plt.show()"
   ]
  },
  {
   "cell_type": "code",
   "execution_count": 26,
   "id": "8e63625a-37e2-49ba-804c-1b354d45875b",
   "metadata": {},
   "outputs": [
    {
     "name": "stdout",
     "output_type": "stream",
     "text": [
      "\n",
      "Responses to: Was it easy to find the league rankings for the São Paulo Grand Prix?\n",
      "Yes    9\n",
      "No     3\n",
      "Name: task-6-q1, dtype: int64\n"
     ]
    },
    {
     "data": {
      "image/png": "[encoded data removed]",
      "text/plain": [
       "<Figure size 432x288 with 1 Axes>"
      ]
     },
     "metadata": {
      "needs_background": "light"
     },
     "output_type": "display_data"
    },
    {
     "name": "stdout",
     "output_type": "stream",
     "text": [
      "\n",
      "Responses to: Did the interface help you quickly identify the relevant race and league rankings?\n",
      "Yes    9\n",
      "No     3\n",
      "Name: task-6-q2, dtype: int64\n"
     ]
    },
    {
     "data": {
      "image/png": "[encoded data removed]",
      "text/plain": [
       "<Figure size 432x288 with 1 Axes>"
      ]
     },
     "metadata": {
      "needs_background": "light"
     },
     "output_type": "display_data"
    },
    {
     "name": "stdout",
     "output_type": "stream",
     "text": [
      "\n",
      "Responses to: Were there any difficulties in understanding the information displayed?\n",
      "No    12\n",
      "Name: task-6-q3, dtype: int64\n"
     ]
    },
    {
     "data": {
      "image/png": "[encoded data removed]",
      "text/plain": [
       "<Figure size 432x288 with 1 Axes>"
      ]
     },
     "metadata": {
      "needs_background": "light"
     },
     "output_type": "display_data"
    }
   ],
   "source": [
    "# List of follow-up questions\n",
    "questions = {\n",
    "    'task-6-q1': \"Was it easy to find the league rankings for the São Paulo Grand Prix?\",\n",
    "    'task-6-q2': \"Did the interface help you quickly identify the relevant race and league rankings?\",\n",
    "    'task-6-q3': \"Were there any difficulties in understanding the information displayed?\"\n",
    "}\n",
    "\n",
    "for col, question in questions.items():\n",
    "    print(f\"\\nResponses to: {question}\")\n",
    "    counts = task6_data[col].value_counts()\n",
    "    print(counts)\n",
    "\n",
    "    # Plot the responses\n",
    "    plt.figure(figsize=(6, 4))\n",
    "    counts.plot(kind='bar', color='skyblue', edgecolor='black')\n",
    "    plt.title(question)\n",
    "    plt.xlabel('Response')\n",
    "    plt.ylabel('Number of Participants')\n",
    "    plt.xticks(rotation=0)\n",
    "    plt.ylim(0, max(counts)+1)\n",
    "    plt.show()"
   ]
  },
  {
   "cell_type": "markdown",
   "id": "ab6499e7-9d19-4778-8b70-2c65ca4d593a",
   "metadata": {},
   "source": [
    "---\n",
    "## Task 7: Look for the Ranking of the Leagues Regarding All the Points from This Season\n",
    "\n",
    "### Goal: Test if the user can find and understand how to view the total points for league members throughout the season.\n",
    "\n",
    "### Instructions: “Find the league rankings showing the total points for all members this season.”\n",
    "\n",
    "#### Follow-up Questions:\n",
    "- Was it clear that clicking the 'TOTAL' button would show the season's total points?\n",
    "- Were there any aspects of the ranking display that were confusing or unclear?\n"
   ]
  },
  {
   "cell_type": "code",
   "execution_count": 27,
   "id": "d69ceb32-895c-4227-b5ac-33b0263b5684",
   "metadata": {},
   "outputs": [
    {
     "data": {
      "text/html": [
       "<div>\n",
       "<style scoped>\n",
       "    .dataframe tbody tr th:only-of-type {\n",
       "        vertical-align: middle;\n",
       "    }\n",
       "\n",
       "    .dataframe tbody tr th {\n",
       "        vertical-align: top;\n",
       "    }\n",
       "\n",
       "    .dataframe thead th {\n",
       "        text-align: right;\n",
       "    }\n",
       "</style>\n",
       "<table border=\"1\" class=\"dataframe\">\n",
       "  <thead>\n",
       "    <tr style=\"text-align: right;\">\n",
       "      <th></th>\n",
       "      <th>test_id</th>\n",
       "      <th>task-7-time</th>\n",
       "      <th>task-7-answer</th>\n",
       "      <th>task-7-q1</th>\n",
       "      <th>task-7-q2</th>\n",
       "    </tr>\n",
       "  </thead>\n",
       "  <tbody>\n",
       "    <tr>\n",
       "      <th>0</th>\n",
       "      <td>1</td>\n",
       "      <td>6</td>\n",
       "      <td>Completed</td>\n",
       "      <td>Yes</td>\n",
       "      <td>Yes, unclear that flags represent previous races</td>\n",
       "    </tr>\n",
       "    <tr>\n",
       "      <th>1</th>\n",
       "      <td>2</td>\n",
       "      <td>10</td>\n",
       "      <td>CompletedYes</td>\n",
       "      <td>Yes</td>\n",
       "      <td>No</td>\n",
       "    </tr>\n",
       "    <tr>\n",
       "      <th>2</th>\n",
       "      <td>3</td>\n",
       "      <td>11</td>\n",
       "      <td>Completed</td>\n",
       "      <td>Yes</td>\n",
       "      <td>No</td>\n",
       "    </tr>\n",
       "    <tr>\n",
       "      <th>3</th>\n",
       "      <td>4</td>\n",
       "      <td>9</td>\n",
       "      <td>Completed</td>\n",
       "      <td>Yes</td>\n",
       "      <td>No</td>\n",
       "    </tr>\n",
       "    <tr>\n",
       "      <th>4</th>\n",
       "      <td>5</td>\n",
       "      <td>8</td>\n",
       "      <td>Completed</td>\n",
       "      <td>Yes</td>\n",
       "      <td>No</td>\n",
       "    </tr>\n",
       "  </tbody>\n",
       "</table>\n",
       "</div>"
      ],
      "text/plain": [
       "   test_id  task-7-time task-7-answer task-7-q1  \\\n",
       "0        1            6     Completed       Yes   \n",
       "1        2           10  CompletedYes       Yes   \n",
       "2        3           11     Completed       Yes   \n",
       "3        4            9     Completed       Yes   \n",
       "4        5            8     Completed       Yes   \n",
       "\n",
       "                                          task-7-q2  \n",
       "0  Yes, unclear that flags represent previous races  \n",
       "1                                                No  \n",
       "2                                                No  \n",
       "3                                                No  \n",
       "4                                                No  "
      ]
     },
     "execution_count": 27,
     "metadata": {},
     "output_type": "execute_result"
    }
   ],
   "source": [
    "# Identify Task 7 columns\n",
    "task7_columns = [col for col in data.columns if col.startswith('task-7')]\n",
    "\n",
    "# Extract Task 7 data\n",
    "task7_data = data[['test_id'] + task7_columns]\n",
    "\n",
    "# Display the first few rows\n",
    "task7_data.head()"
   ]
  },
  {
   "cell_type": "code",
   "execution_count": 28,
   "id": "f6ae6ff1-adbf-4d29-8338-c520159e1f95",
   "metadata": {},
   "outputs": [
    {
     "name": "stdout",
     "output_type": "stream",
     "text": [
      "Descriptive statistics for Task 7 completion time:\n",
      "count    12.000000\n",
      "mean      9.583333\n",
      "std       1.831955\n",
      "min       6.000000\n",
      "25%       8.750000\n",
      "50%      10.000000\n",
      "75%      11.000000\n",
      "max      12.000000\n",
      "Name: task-7-time, dtype: float64\n"
     ]
    }
   ],
   "source": [
    "# Calculate descriptive statistics\n",
    "task7_time_stats = task7_data['task-7-time'].describe()\n",
    "print(\"Descriptive statistics for Task 7 completion time:\")\n",
    "print(task7_time_stats)"
   ]
  },
  {
   "cell_type": "code",
   "execution_count": 29,
   "id": "1064f5ed-b027-49bf-a43e-b18c907346c8",
   "metadata": {},
   "outputs": [
    {
     "data": {
      "image/png": "[encoded data removed]",
      "text/plain": [
       "<Figure size 720x432 with 1 Axes>"
      ]
     },
     "metadata": {
      "needs_background": "light"
     },
     "output_type": "display_data"
    }
   ],
   "source": [
    "import matplotlib.pyplot as plt\n",
    "\n",
    "# Plot a bar chart of task times per participant\n",
    "plt.figure(figsize=(10, 6))\n",
    "bars = plt.bar(task7_data['test_id'], task7_data['task-7-time'], edgecolor='black', color='lightgreen')\n",
    "plt.title('Time Taken for Task 7 by Participant')\n",
    "plt.xlabel('Participant ID')\n",
    "plt.ylabel('Time (seconds)')\n",
    "plt.xticks(task7_data['test_id'])\n",
    "\n",
    "# Add data labels on top of each bar\n",
    "for bar in bars:\n",
    "    yval = bar.get_height()\n",
    "    plt.text(bar.get_x() + bar.get_width()/2.0, yval + 0.3, f'{yval:.0f}', ha='center', va='bottom')\n",
    "\n",
    "plt.show()"
   ]
  },
  {
   "cell_type": "code",
   "execution_count": 30,
   "id": "21d154f9-064d-48ae-9f57-b9070af07731",
   "metadata": {},
   "outputs": [
    {
     "name": "stdout",
     "output_type": "stream",
     "text": [
      "\n",
      "Responses to: Was it clear that clicking the 'TOTAL' button would show the season's total points?\n",
      "Yes    12\n",
      "Name: task-7-q1, dtype: int64\n"
     ]
    },
    {
     "data": {
      "image/png": "[encoded data removed]",
      "text/plain": [
       "<Figure size 576x432 with 1 Axes>"
      ]
     },
     "metadata": {
      "needs_background": "light"
     },
     "output_type": "display_data"
    },
    {
     "name": "stdout",
     "output_type": "stream",
     "text": [
      "\n",
      "Responses to: Were there any aspects of the ranking display that were confusing or unclear?\n",
      "No                                                  10\n",
      "Yes, unclear that flags represent previous races     2\n",
      "Name: task-7-q2, dtype: int64\n"
     ]
    },
    {
     "data": {
      "image/png": "[encoded data removed]",
      "text/plain": [
       "<Figure size 576x432 with 1 Axes>"
      ]
     },
     "metadata": {
      "needs_background": "light"
     },
     "output_type": "display_data"
    }
   ],
   "source": [
    "# Dictionary of Task 7 questions\n",
    "task7_questions = {\n",
    "    'task-7-q1': \"Was it clear that clicking the 'TOTAL' button would show the season's total points?\",\n",
    "    'task-7-q2': \"Were there any aspects of the ranking display that were confusing or unclear?\",\n",
    "}\n",
    "\n",
    "import matplotlib.pyplot as plt\n",
    "\n",
    "# List of questions with categorical (Yes/No) responses\n",
    "categorical_questions = ['task-7-q1', 'task-7-q2']\n",
    "\n",
    "for col in categorical_questions:\n",
    "    question = task7_questions[col]\n",
    "    print(f\"\\nResponses to: {question}\")\n",
    "    counts = task7_data[col].value_counts()\n",
    "    print(counts)\n",
    "    \n",
    "    # Plot the responses\n",
    "    plt.figure(figsize=(8, 6))\n",
    "    counts.plot(kind='bar', color='skyblue', edgecolor='black')\n",
    "    plt.title(question, fontsize=12)\n",
    "    plt.xlabel('Response')\n",
    "    plt.ylabel('Number of Participants')\n",
    "    plt.xticks(rotation=0)\n",
    "    plt.ylim(0, counts.max() + 1)\n",
    "    plt.show()"
   ]
  },
  {
   "cell_type": "markdown",
   "id": "9083a56d-4539-4c55-9575-91bddc018f1d",
   "metadata": {},
   "source": [
    "---\n",
    "## Task 8: Look for Sara's Predictions for Las Vegas Grand Prix\n",
    "\n",
    "### Goal: Test if the user can find and interpret the predictions for a specific race and understand the points awarded.\n",
    "\n",
    "### Instructions: “Look for Sara's predictions for the Las Vegas Grand Prix. Once you find it, explain what you see on the screen.”\n",
    "\n",
    "#### Follow-up Questions:\n",
    "- Was it easy to find Sara's predictions for the Las Vegas Grand Prix?\n",
    "- Can you explain why Sara received 10 points for her predictions?\n",
    "- Was the points system for the predictions clear and easy to understand?\n",
    "- Was there anything about the layout or information that confused you?\n"
   ]
  },
  {
   "cell_type": "code",
   "execution_count": 31,
   "id": "5db2a57a-f0fe-498a-86e0-d707cf9b48d3",
   "metadata": {},
   "outputs": [
    {
     "data": {
      "text/html": [
       "<div>\n",
       "<style scoped>\n",
       "    .dataframe tbody tr th:only-of-type {\n",
       "        vertical-align: middle;\n",
       "    }\n",
       "\n",
       "    .dataframe tbody tr th {\n",
       "        vertical-align: top;\n",
       "    }\n",
       "\n",
       "    .dataframe thead th {\n",
       "        text-align: right;\n",
       "    }\n",
       "</style>\n",
       "<table border=\"1\" class=\"dataframe\">\n",
       "  <thead>\n",
       "    <tr style=\"text-align: right;\">\n",
       "      <th></th>\n",
       "      <th>test_id</th>\n",
       "      <th>task-8-time</th>\n",
       "      <th>task-8-answer</th>\n",
       "      <th>task-8-q1</th>\n",
       "      <th>task-8-q2</th>\n",
       "      <th>task-8-q3</th>\n",
       "      <th>task-8-q4</th>\n",
       "    </tr>\n",
       "  </thead>\n",
       "  <tbody>\n",
       "    <tr>\n",
       "      <th>0</th>\n",
       "      <td>1</td>\n",
       "      <td>29</td>\n",
       "      <td>Completed</td>\n",
       "      <td>Yes</td>\n",
       "      <td>Matched one of the three racers on the podium</td>\n",
       "      <td>Yes</td>\n",
       "      <td>Yes, the flags on the league screen need label...</td>\n",
       "    </tr>\n",
       "    <tr>\n",
       "      <th>1</th>\n",
       "      <td>2</td>\n",
       "      <td>27</td>\n",
       "      <td>Completed</td>\n",
       "      <td>Yes</td>\n",
       "      <td>Matched one of the three racers on the podium</td>\n",
       "      <td>Yes</td>\n",
       "      <td>No</td>\n",
       "    </tr>\n",
       "    <tr>\n",
       "      <th>2</th>\n",
       "      <td>3</td>\n",
       "      <td>30</td>\n",
       "      <td>Completed</td>\n",
       "      <td>Yes</td>\n",
       "      <td>Matched one of the three racers on the podium</td>\n",
       "      <td>Yes</td>\n",
       "      <td>No</td>\n",
       "    </tr>\n",
       "    <tr>\n",
       "      <th>3</th>\n",
       "      <td>4</td>\n",
       "      <td>27</td>\n",
       "      <td>Completed</td>\n",
       "      <td>Yes</td>\n",
       "      <td>Matched one of the three racers on the podium</td>\n",
       "      <td>Yes</td>\n",
       "      <td>No</td>\n",
       "    </tr>\n",
       "    <tr>\n",
       "      <th>4</th>\n",
       "      <td>5</td>\n",
       "      <td>29</td>\n",
       "      <td>Completed</td>\n",
       "      <td>Yes</td>\n",
       "      <td>Matched one of the three racers on the podium</td>\n",
       "      <td>Yes</td>\n",
       "      <td>No</td>\n",
       "    </tr>\n",
       "  </tbody>\n",
       "</table>\n",
       "</div>"
      ],
      "text/plain": [
       "   test_id  task-8-time task-8-answer task-8-q1  \\\n",
       "0        1           29     Completed       Yes   \n",
       "1        2           27     Completed       Yes   \n",
       "2        3           30     Completed       Yes   \n",
       "3        4           27     Completed       Yes   \n",
       "4        5           29     Completed       Yes   \n",
       "\n",
       "                                       task-8-q2 task-8-q3  \\\n",
       "0  Matched one of the three racers on the podium       Yes   \n",
       "1  Matched one of the three racers on the podium       Yes   \n",
       "2  Matched one of the three racers on the podium       Yes   \n",
       "3  Matched one of the three racers on the podium       Yes   \n",
       "4  Matched one of the three racers on the podium       Yes   \n",
       "\n",
       "                                           task-8-q4  \n",
       "0  Yes, the flags on the league screen need label...  \n",
       "1                                                 No  \n",
       "2                                                 No  \n",
       "3                                                 No  \n",
       "4                                                 No  "
      ]
     },
     "execution_count": 31,
     "metadata": {},
     "output_type": "execute_result"
    }
   ],
   "source": [
    "# Identify Task 8 columns\n",
    "task8_columns = [col for col in data.columns if col.startswith('task-8')]\n",
    "\n",
    "# Extract Task 8 data\n",
    "task8_data = data[['test_id'] + task8_columns]\n",
    "\n",
    "# Display the first few rows\n",
    "task8_data.head()"
   ]
  },
  {
   "cell_type": "code",
   "execution_count": 32,
   "id": "91a33937-5b93-4a1c-a7fa-7658b4b36c3f",
   "metadata": {},
   "outputs": [
    {
     "name": "stdout",
     "output_type": "stream",
     "text": [
      "\n",
      "Responses to: Was it easy to find Sara's predictions for the Las Vegas Grand Prix?\n",
      "Yes    12\n",
      "Name: task-8-q1, dtype: int64\n"
     ]
    },
    {
     "data": {
      "image/png": "[encoded data removed]",
      "text/plain": [
       "<Figure size 576x432 with 1 Axes>"
      ]
     },
     "metadata": {
      "needs_background": "light"
     },
     "output_type": "display_data"
    },
    {
     "name": "stdout",
     "output_type": "stream",
     "text": [
      "\n",
      "Responses to: Can you explain why Sara received 10 points for her predictions?\n",
      "Matched one of the three racers on the podium    12\n",
      "Name: task-8-q2, dtype: int64\n"
     ]
    },
    {
     "data": {
      "image/png": "[encoded data removed]",
      "text/plain": [
       "<Figure size 576x432 with 1 Axes>"
      ]
     },
     "metadata": {
      "needs_background": "light"
     },
     "output_type": "display_data"
    },
    {
     "name": "stdout",
     "output_type": "stream",
     "text": [
      "\n",
      "Responses to: Was the points system for the predictions clear and easy to understand?\n",
      "Yes    12\n",
      "Name: task-8-q3, dtype: int64\n"
     ]
    },
    {
     "data": {
      "image/png": "[encoded data removed]",
      "text/plain": [
       "<Figure size 576x432 with 1 Axes>"
      ]
     },
     "metadata": {
      "needs_background": "light"
     },
     "output_type": "display_data"
    },
    {
     "name": "stdout",
     "output_type": "stream",
     "text": [
      "\n",
      "Responses to: Was there anything about the layout or information that confused you?\n",
      "No                                                            9\n",
      "Yes, the flags on the league screen need labels above them    3\n",
      "Name: task-8-q4, dtype: int64\n"
     ]
    },
    {
     "data": {
      "image/png": "[encoded data removed]",
      "text/plain": [
       "<Figure size 576x432 with 1 Axes>"
      ]
     },
     "metadata": {
      "needs_background": "light"
     },
     "output_type": "display_data"
    }
   ],
   "source": [
    "# Dictionary of Task 8 questions\n",
    "task8_questions = {\n",
    "    'task-8-q1': \"Was it easy to find Sara's predictions for the Las Vegas Grand Prix?\",\n",
    "    'task-8-q2': \"Can you explain why Sara received 10 points for her predictions?\",\n",
    "    'task-8-q3': \"Was the points system for the predictions clear and easy to understand?\",\n",
    "    'task-8-q4': \"Was there anything about the layout or information that confused you?\"\n",
    "}\n",
    "\n",
    "import matplotlib.pyplot as plt\n",
    "\n",
    "for col, question in task8_questions.items():\n",
    "    print(f\"\\nResponses to: {question}\")\n",
    "    counts = task8_data[col].value_counts()\n",
    "    print(counts)\n",
    "    \n",
    "    # Plot the responses\n",
    "    plt.figure(figsize=(8, 6))\n",
    "    counts.plot(kind='bar', color='skyblue', edgecolor='black')\n",
    "    plt.title(question, fontsize=12)\n",
    "    plt.xlabel('Response')\n",
    "    plt.ylabel('Number of Participants')\n",
    "    plt.xticks(rotation=0)\n",
    "    plt.ylim(0, counts.max() + 1)\n",
    "    plt.show()"
   ]
  },
  {
   "cell_type": "code",
   "execution_count": null,
   "id": "a7b211e8-e216-44d6-b5c8-40cd1c8345b0",
   "metadata": {},
   "outputs": [],
   "source": []
  }
 ],
 "metadata": {
  "kernelspec": {
   "display_name": "Python 3 (ipykernel)",
   "language": "python",
   "name": "python3"
  },
  "language_info": {
   "codemirror_mode": {
    "name": "ipython",
    "version": 3
   },
   "file_extension": ".py",
   "mimetype": "text/x-python",
   "name": "python",
   "nbconvert_exporter": "python",
   "pygments_lexer": "ipython3",
   "version": "3.9.7"
  }
 },
 "nbformat": 4,
 "nbformat_minor": 5
}
